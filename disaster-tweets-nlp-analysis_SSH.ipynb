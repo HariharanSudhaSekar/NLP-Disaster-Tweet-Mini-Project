{
 "cells": [
  {
   "cell_type": "code",
   "execution_count": 1,
   "id": "9e02c8cf",
   "metadata": {
    "execution": {
     "iopub.execute_input": "2024-08-18T19:37:47.367216Z",
     "iopub.status.busy": "2024-08-18T19:37:47.366750Z",
     "iopub.status.idle": "2024-08-18T19:37:49.402852Z",
     "shell.execute_reply": "2024-08-18T19:37:49.401902Z"
    },
    "papermill": {
     "duration": 2.04411,
     "end_time": "2024-08-18T19:37:49.405429",
     "exception": false,
     "start_time": "2024-08-18T19:37:47.361319",
     "status": "completed"
    },
    "tags": []
   },
   "outputs": [],
   "source": [
    "from sklearn.feature_extraction.text import TfidfVectorizer\n",
    "from sklearn.linear_model import LogisticRegression\n",
    "from sklearn.model_selection import train_test_split\n",
    "from sklearn.metrics import classification_report, confusion_matrix, ConfusionMatrixDisplay\n",
    "import matplotlib.pyplot as plt\n",
    "import pandas as pd"
   ]
  },
  {
   "cell_type": "code",
   "execution_count": 2,
   "id": "f15d70ee",
   "metadata": {
    "execution": {
     "iopub.execute_input": "2024-08-18T19:37:49.414261Z",
     "iopub.status.busy": "2024-08-18T19:37:49.413242Z",
     "iopub.status.idle": "2024-08-18T19:37:49.496153Z",
     "shell.execute_reply": "2024-08-18T19:37:49.495182Z"
    },
    "papermill": {
     "duration": 0.089659,
     "end_time": "2024-08-18T19:37:49.498631",
     "exception": false,
     "start_time": "2024-08-18T19:37:49.408972",
     "status": "completed"
    },
    "tags": []
   },
   "outputs": [],
   "source": [
    "# Load the datasets\n",
    "df_train = pd.read_csv(\"/kaggle/input/nlp-getting-started/train.csv\")\n",
    "df_test = pd.read_csv(\"/kaggle/input/nlp-getting-started/test.csv\")"
   ]
  },
  {
   "cell_type": "code",
   "execution_count": 3,
   "id": "bf0621de",
   "metadata": {
    "execution": {
     "iopub.execute_input": "2024-08-18T19:37:49.506516Z",
     "iopub.status.busy": "2024-08-18T19:37:49.506133Z",
     "iopub.status.idle": "2024-08-18T19:37:49.528964Z",
     "shell.execute_reply": "2024-08-18T19:37:49.527820Z"
    },
    "papermill": {
     "duration": 0.029515,
     "end_time": "2024-08-18T19:37:49.531414",
     "exception": false,
     "start_time": "2024-08-18T19:37:49.501899",
     "status": "completed"
    },
    "tags": []
   },
   "outputs": [],
   "source": [
    "# Fill missing values in 'keyword' and 'location' with empty strings\n",
    "df_train['keyword'] = df_train['keyword'].fillna('')\n",
    "df_train['location'] = df_train['location'].fillna('')\n",
    "df_test['keyword'] = df_test['keyword'].fillna('')\n",
    "df_test['location'] = df_test['location'].fillna('')\n",
    "\n",
    "# Combine 'keyword' and 'location' with 'text'\n",
    "df_train['text'] = df_train['keyword'] + \" \" + df_train['location'] + \" \" + df_train['text']\n",
    "df_test['text'] = df_test['keyword'] + \" \" + df_test['location'] + \" \" + df_test['text']"
   ]
  },
  {
   "cell_type": "code",
   "execution_count": 4,
   "id": "12b01540",
   "metadata": {
    "execution": {
     "iopub.execute_input": "2024-08-18T19:37:49.539435Z",
     "iopub.status.busy": "2024-08-18T19:37:49.539060Z",
     "iopub.status.idle": "2024-08-18T19:37:49.550971Z",
     "shell.execute_reply": "2024-08-18T19:37:49.550108Z"
    },
    "papermill": {
     "duration": 0.018486,
     "end_time": "2024-08-18T19:37:49.553267",
     "exception": false,
     "start_time": "2024-08-18T19:37:49.534781",
     "status": "completed"
    },
    "tags": []
   },
   "outputs": [],
   "source": [
    "# Split the data into training and validation sets\n",
    "X = df_train[\"text\"]\n",
    "y = df_train[\"target\"]\n",
    "X_train, X_val, y_train, y_val = train_test_split(X, y, test_size=0.2, random_state=42)"
   ]
  },
  {
   "cell_type": "code",
   "execution_count": 5,
   "id": "c6d8e463",
   "metadata": {
    "execution": {
     "iopub.execute_input": "2024-08-18T19:37:49.561751Z",
     "iopub.status.busy": "2024-08-18T19:37:49.560869Z",
     "iopub.status.idle": "2024-08-18T19:37:49.920548Z",
     "shell.execute_reply": "2024-08-18T19:37:49.919570Z"
    },
    "papermill": {
     "duration": 0.366435,
     "end_time": "2024-08-18T19:37:49.923060",
     "exception": false,
     "start_time": "2024-08-18T19:37:49.556625",
     "status": "completed"
    },
    "tags": []
   },
   "outputs": [],
   "source": [
    "# Initialize TF-IDF vectorizer\n",
    "vectorizer = TfidfVectorizer(max_features=10000)\n",
    "X_train_tfidf = vectorizer.fit_transform(X_train)\n",
    "X_val_tfidf = vectorizer.transform(X_val)\n",
    "X_test_tfidf = vectorizer.transform(df_test[\"text\"])"
   ]
  },
  {
   "cell_type": "code",
   "execution_count": 6,
   "id": "f97295a7",
   "metadata": {
    "execution": {
     "iopub.execute_input": "2024-08-18T19:37:49.931024Z",
     "iopub.status.busy": "2024-08-18T19:37:49.930643Z",
     "iopub.status.idle": "2024-08-18T19:37:50.082560Z",
     "shell.execute_reply": "2024-08-18T19:37:50.081468Z"
    },
    "papermill": {
     "duration": 0.158939,
     "end_time": "2024-08-18T19:37:50.085266",
     "exception": false,
     "start_time": "2024-08-18T19:37:49.926327",
     "status": "completed"
    },
    "tags": []
   },
   "outputs": [
    {
     "data": {
      "text/html": [
       "<style>#sk-container-id-1 {color: black;background-color: white;}#sk-container-id-1 pre{padding: 0;}#sk-container-id-1 div.sk-toggleable {background-color: white;}#sk-container-id-1 label.sk-toggleable__label {cursor: pointer;display: block;width: 100%;margin-bottom: 0;padding: 0.3em;box-sizing: border-box;text-align: center;}#sk-container-id-1 label.sk-toggleable__label-arrow:before {content: \"▸\";float: left;margin-right: 0.25em;color: #696969;}#sk-container-id-1 label.sk-toggleable__label-arrow:hover:before {color: black;}#sk-container-id-1 div.sk-estimator:hover label.sk-toggleable__label-arrow:before {color: black;}#sk-container-id-1 div.sk-toggleable__content {max-height: 0;max-width: 0;overflow: hidden;text-align: left;background-color: #f0f8ff;}#sk-container-id-1 div.sk-toggleable__content pre {margin: 0.2em;color: black;border-radius: 0.25em;background-color: #f0f8ff;}#sk-container-id-1 input.sk-toggleable__control:checked~div.sk-toggleable__content {max-height: 200px;max-width: 100%;overflow: auto;}#sk-container-id-1 input.sk-toggleable__control:checked~label.sk-toggleable__label-arrow:before {content: \"▾\";}#sk-container-id-1 div.sk-estimator input.sk-toggleable__control:checked~label.sk-toggleable__label {background-color: #d4ebff;}#sk-container-id-1 div.sk-label input.sk-toggleable__control:checked~label.sk-toggleable__label {background-color: #d4ebff;}#sk-container-id-1 input.sk-hidden--visually {border: 0;clip: rect(1px 1px 1px 1px);clip: rect(1px, 1px, 1px, 1px);height: 1px;margin: -1px;overflow: hidden;padding: 0;position: absolute;width: 1px;}#sk-container-id-1 div.sk-estimator {font-family: monospace;background-color: #f0f8ff;border: 1px dotted black;border-radius: 0.25em;box-sizing: border-box;margin-bottom: 0.5em;}#sk-container-id-1 div.sk-estimator:hover {background-color: #d4ebff;}#sk-container-id-1 div.sk-parallel-item::after {content: \"\";width: 100%;border-bottom: 1px solid gray;flex-grow: 1;}#sk-container-id-1 div.sk-label:hover label.sk-toggleable__label {background-color: #d4ebff;}#sk-container-id-1 div.sk-serial::before {content: \"\";position: absolute;border-left: 1px solid gray;box-sizing: border-box;top: 0;bottom: 0;left: 50%;z-index: 0;}#sk-container-id-1 div.sk-serial {display: flex;flex-direction: column;align-items: center;background-color: white;padding-right: 0.2em;padding-left: 0.2em;position: relative;}#sk-container-id-1 div.sk-item {position: relative;z-index: 1;}#sk-container-id-1 div.sk-parallel {display: flex;align-items: stretch;justify-content: center;background-color: white;position: relative;}#sk-container-id-1 div.sk-item::before, #sk-container-id-1 div.sk-parallel-item::before {content: \"\";position: absolute;border-left: 1px solid gray;box-sizing: border-box;top: 0;bottom: 0;left: 50%;z-index: -1;}#sk-container-id-1 div.sk-parallel-item {display: flex;flex-direction: column;z-index: 1;position: relative;background-color: white;}#sk-container-id-1 div.sk-parallel-item:first-child::after {align-self: flex-end;width: 50%;}#sk-container-id-1 div.sk-parallel-item:last-child::after {align-self: flex-start;width: 50%;}#sk-container-id-1 div.sk-parallel-item:only-child::after {width: 0;}#sk-container-id-1 div.sk-dashed-wrapped {border: 1px dashed gray;margin: 0 0.4em 0.5em 0.4em;box-sizing: border-box;padding-bottom: 0.4em;background-color: white;}#sk-container-id-1 div.sk-label label {font-family: monospace;font-weight: bold;display: inline-block;line-height: 1.2em;}#sk-container-id-1 div.sk-label-container {text-align: center;}#sk-container-id-1 div.sk-container {/* jupyter's `normalize.less` sets `[hidden] { display: none; }` but bootstrap.min.css set `[hidden] { display: none !important; }` so we also need the `!important` here to be able to override the default hidden behavior on the sphinx rendered scikit-learn.org. See: https://github.com/scikit-learn/scikit-learn/issues/21755 */display: inline-block !important;position: relative;}#sk-container-id-1 div.sk-text-repr-fallback {display: none;}</style><div id=\"sk-container-id-1\" class=\"sk-top-container\"><div class=\"sk-text-repr-fallback\"><pre>LogisticRegression(max_iter=1000)</pre><b>In a Jupyter environment, please rerun this cell to show the HTML representation or trust the notebook. <br />On GitHub, the HTML representation is unable to render, please try loading this page with nbviewer.org.</b></div><div class=\"sk-container\" hidden><div class=\"sk-item\"><div class=\"sk-estimator sk-toggleable\"><input class=\"sk-toggleable__control sk-hidden--visually\" id=\"sk-estimator-id-1\" type=\"checkbox\" checked><label for=\"sk-estimator-id-1\" class=\"sk-toggleable__label sk-toggleable__label-arrow\">LogisticRegression</label><div class=\"sk-toggleable__content\"><pre>LogisticRegression(max_iter=1000)</pre></div></div></div></div></div>"
      ],
      "text/plain": [
       "LogisticRegression(max_iter=1000)"
      ]
     },
     "execution_count": 6,
     "metadata": {},
     "output_type": "execute_result"
    }
   ],
   "source": [
    "# Initialize the model\n",
    "model = LogisticRegression(max_iter=1000)\n",
    "\n",
    "# Train the model\n",
    "model.fit(X_train_tfidf, y_train)"
   ]
  },
  {
   "cell_type": "code",
   "execution_count": 7,
   "id": "08484860",
   "metadata": {
    "execution": {
     "iopub.execute_input": "2024-08-18T19:37:50.098320Z",
     "iopub.status.busy": "2024-08-18T19:37:50.097794Z",
     "iopub.status.idle": "2024-08-18T19:37:50.104990Z",
     "shell.execute_reply": "2024-08-18T19:37:50.103896Z"
    },
    "papermill": {
     "duration": 0.018667,
     "end_time": "2024-08-18T19:37:50.109493",
     "exception": false,
     "start_time": "2024-08-18T19:37:50.090826",
     "status": "completed"
    },
    "tags": []
   },
   "outputs": [
    {
     "name": "stdout",
     "output_type": "stream",
     "text": [
      "\n",
      "Model Training Complete\n"
     ]
    }
   ],
   "source": [
    "# Predict on the validation set\n",
    "y_pred_val = model.predict(X_val_tfidf)\n",
    "\n",
    "print(\"\\nModel Training Complete\")"
   ]
  },
  {
   "cell_type": "code",
   "execution_count": 8,
   "id": "8194f744",
   "metadata": {
    "execution": {
     "iopub.execute_input": "2024-08-18T19:37:50.122821Z",
     "iopub.status.busy": "2024-08-18T19:37:50.122313Z",
     "iopub.status.idle": "2024-08-18T19:37:50.143962Z",
     "shell.execute_reply": "2024-08-18T19:37:50.142660Z"
    },
    "papermill": {
     "duration": 0.032045,
     "end_time": "2024-08-18T19:37:50.147401",
     "exception": false,
     "start_time": "2024-08-18T19:37:50.115356",
     "status": "completed"
    },
    "tags": []
   },
   "outputs": [
    {
     "name": "stdout",
     "output_type": "stream",
     "text": [
      "\n",
      "Validation Classification Report\n",
      "              precision    recall  f1-score   support\n",
      "\n",
      "           0       0.80      0.87      0.83       874\n",
      "           1       0.80      0.71      0.75       649\n",
      "\n",
      "    accuracy                           0.80      1523\n",
      "   macro avg       0.80      0.79      0.79      1523\n",
      "weighted avg       0.80      0.80      0.80      1523\n",
      "\n"
     ]
    }
   ],
   "source": [
    "# Evaluate the model on validation data\n",
    "print(\"\\nValidation Classification Report\")\n",
    "print(classification_report(y_val, y_pred_val))"
   ]
  },
  {
   "cell_type": "code",
   "execution_count": 9,
   "id": "17943a63",
   "metadata": {
    "execution": {
     "iopub.execute_input": "2024-08-18T19:37:50.161251Z",
     "iopub.status.busy": "2024-08-18T19:37:50.160657Z",
     "iopub.status.idle": "2024-08-18T19:37:50.461897Z",
     "shell.execute_reply": "2024-08-18T19:37:50.460776Z"
    },
    "papermill": {
     "duration": 0.310906,
     "end_time": "2024-08-18T19:37:50.464328",
     "exception": false,
     "start_time": "2024-08-18T19:37:50.153422",
     "status": "completed"
    },
    "tags": []
   },
   "outputs": [
    {
     "data": {
      "image/png": "[encoded data removed]",
      "text/plain": [
       "<Figure size 640x480 with 2 Axes>"
      ]
     },
     "metadata": {},
     "output_type": "display_data"
    }
   ],
   "source": [
    "# Display Confusion Matrix\n",
    "def display_confusion_matrix(y_true, y_pred, dataset):\n",
    "    cm = confusion_matrix(y_true, y_pred)\n",
    "    disp = ConfusionMatrixDisplay(confusion_matrix=cm, display_labels=[\"Not Disaster\", \"Disaster\"])\n",
    "    disp.plot(cmap=plt.cm.Blues)\n",
    "    plt.title(f\"Confusion Matrix on {dataset} Dataset\")\n",
    "    plt.show()\n",
    "\n",
    "display_confusion_matrix(y_val, y_pred_val, \"Validation\")"
   ]
  },
  {
   "cell_type": "code",
   "execution_count": 10,
   "id": "5a8eac05",
   "metadata": {
    "_cell_guid": "4052025e-e19d-4258-8bdf-49ab851350a4",
    "_uuid": "4dee35ec-1c28-4b6e-bf9e-a24a4dde577d",
    "collapsed": false,
    "execution": {
     "iopub.execute_input": "2024-08-18T19:37:50.474172Z",
     "iopub.status.busy": "2024-08-18T19:37:50.473774Z",
     "iopub.status.idle": "2024-08-18T19:37:50.493160Z",
     "shell.execute_reply": "2024-08-18T19:37:50.492035Z"
    },
    "jupyter": {
     "outputs_hidden": false
    },
    "papermill": {
     "duration": 0.026894,
     "end_time": "2024-08-18T19:37:50.495481",
     "exception": false,
     "start_time": "2024-08-18T19:37:50.468587",
     "status": "completed"
    },
    "tags": []
   },
   "outputs": [
    {
     "name": "stdout",
     "output_type": "stream",
     "text": [
      "\n",
      "Submission file generated: submission.csv\n"
     ]
    }
   ],
   "source": [
    "# Predict on the test set\n",
    "y_test_pred = model.predict(X_test_tfidf)\n",
    "\n",
    "# Generate the submission file\n",
    "sample_submission = pd.read_csv(\"/kaggle/input/nlp-getting-started/sample_submission.csv\")\n",
    "sample_submission[\"target\"] = y_test_pred\n",
    "sample_submission.to_csv(\"/kaggle/working/submission.csv\", index=False)\n",
    "\n",
    "print(\"\\nSubmission file generated: submission.csv\")"
   ]
  }
 ],
 "metadata": {
  "kaggle": {
   "accelerator": "none",
   "dataSources": [
    {
     "databundleVersionId": 869809,
     "sourceId": 17777,
     "sourceType": "competition"
    }
   ],
   "dockerImageVersionId": 30746,
   "isGpuEnabled": false,
   "isInternetEnabled": true,
   "language": "python",
   "sourceType": "notebook"
  },
  "kernelspec": {
   "display_name": "Python 3",
   "language": "python",
   "name": "python3"
  },
  "language_info": {
   "codemirror_mode": {
    "name": "ipython",
    "version": 3
   },
   "file_extension": ".py",
   "mimetype": "text/x-python",
   "name": "python",
   "nbconvert_exporter": "python",
   "pygments_lexer": "ipython3",
   "version": "3.10.13"
  },
  "papermill": {
   "default_parameters": {},
   "duration": 6.341946,
   "end_time": "2024-08-18T19:37:51.020519",
   "environment_variables": {},
   "exception": null,
   "input_path": "__notebook__.ipynb",
   "output_path": "__notebook__.ipynb",
   "parameters": {},
   "start_time": "2024-08-18T19:37:44.678573",
   "version": "2.5.0"
  }
 },
 "nbformat": 4,
 "nbformat_minor": 5
}
